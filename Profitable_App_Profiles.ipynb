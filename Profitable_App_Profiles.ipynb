{
 "cells": [
  {
   "cell_type": "markdown",
   "metadata": {},
   "source": [
    "# Profitable App Profiles for the App Store and Google Play Markets #\n",
    "\n",
    "The goal of this project is to evaluate apps from both the iOS App Store and Google Play markets to determine which apps are most likely to be profitable for future development efforts. The assumption for this project is that this data analysis work is for a company that develops iOS and Android mobile apps that are free, with revenue coming primarily from in-app advertising.\n",
    "\n",
    "* A selection of data for approximately 10,000 Android apps from Google Play was obtained from this [resource](https://www.kaggle.com/lava18/google-play-store-apps).\n",
    "\n",
    "* A selection of data for approximately 7,000 iOS apps from the App Store was obtained from this [resource](https://www.kaggle.com/ramamet4/app-store-apple-data-set-10k-apps).\n",
    "\n",
    "\n",
    "## Opening the Data Files and Initial Inspection ##"
   ]
  },
  {
   "cell_type": "code",
   "execution_count": 1,
   "metadata": {},
   "outputs": [],
   "source": [
    "# Import Android apps csv data and create list of lists\n",
    "from csv import reader\n",
    "\n",
    "open_android = open(\"googleplaystore.csv\", encoding=\"utf8\")\n",
    "read_android = reader(open_android)\n",
    "android_appdata = list(read_android)\n",
    "android_header = android_appdata[0]\n",
    "android_appdata = android_appdata[1:]\n",
    "\n",
    "# Import iOS apps csv data and create list of lists\n",
    "open_apple = open(\"AppleStore.csv\", encoding=\"utf8\")\n",
    "read_apple = reader(open_apple)\n",
    "apple_appdata = list(read_apple)\n",
    "apple_header = apple_appdata[0]\n",
    "apple_appdata = apple_appdata[1:]\n"
   ]
  },
  {
   "cell_type": "markdown",
   "metadata": {},
   "source": [
    "The explore_data function will allow us to look at each dataset and specify how many rows of data we are interested in viewing. It also allows for the optional printing of the number of columns and rows in the dataset."
   ]
  },
  {
   "cell_type": "code",
   "execution_count": 2,
   "metadata": {},
   "outputs": [],
   "source": [
    "def explore_data(dataset, start, end, rows_and_columns=False):\n",
    "    dataset_slice = dataset[start:end]    \n",
    "    for row in dataset_slice:\n",
    "        print(row)\n",
    "        print('\\n') # adds a new (empty) line after each row\n",
    "\n",
    "    if rows_and_columns:\n",
    "        print('Number of rows:', len(dataset))\n",
    "        print('Number of columns:', len(dataset[0]))"
   ]
  },
  {
   "cell_type": "markdown",
   "metadata": {},
   "source": [
    "Let's look at the Android data first:"
   ]
  },
  {
   "cell_type": "code",
   "execution_count": 3,
   "metadata": {
    "scrolled": true
   },
   "outputs": [
    {
     "name": "stdout",
     "output_type": "stream",
     "text": [
      "['Coloring book moana', 'ART_AND_DESIGN', '3.9', '967', '14M', '500,000+', 'Free', '0', 'Everyone', 'Art & Design;Pretend Play', 'January 15, 2018', '2.0.0', '4.0.3 and up']\n",
      "\n",
      "\n",
      "['U Launcher Lite – FREE Live Cool Themes, Hide Apps', 'ART_AND_DESIGN', '4.7', '87510', '8.7M', '5,000,000+', 'Free', '0', 'Everyone', 'Art & Design', 'August 1, 2018', '1.2.4', '4.0.3 and up']\n",
      "\n",
      "\n",
      "Number of rows: 10841\n",
      "Number of columns: 13\n"
     ]
    }
   ],
   "source": [
    "explore_data(android_appdata,1,3,True)"
   ]
  },
  {
   "cell_type": "markdown",
   "metadata": {},
   "source": [
    "Now we'll look at the same information from the Apple App Store data:"
   ]
  },
  {
   "cell_type": "code",
   "execution_count": 4,
   "metadata": {},
   "outputs": [
    {
     "name": "stdout",
     "output_type": "stream",
     "text": [
      "['389801252', 'Instagram', '113954816', 'USD', '0.0', '2161558', '1289', '4.5', '4.0', '10.23', '12+', 'Photo & Video', '37', '0', '29', '1']\n",
      "\n",
      "\n",
      "['529479190', 'Clash of Clans', '116476928', 'USD', '0.0', '2130805', '579', '4.5', '4.5', '9.24.12', '9+', 'Games', '38', '5', '18', '1']\n",
      "\n",
      "\n",
      "Number of rows: 7197\n",
      "Number of columns: 16\n"
     ]
    }
   ],
   "source": [
    "explore_data(apple_appdata,1,3,True)"
   ]
  },
  {
   "cell_type": "markdown",
   "metadata": {},
   "source": [
    "In order to get an idea of which columns of data may prove most useful for analysis, we print the header files below:"
   ]
  },
  {
   "cell_type": "code",
   "execution_count": 5,
   "metadata": {},
   "outputs": [
    {
     "name": "stdout",
     "output_type": "stream",
     "text": [
      "['App', 'Category', 'Rating', 'Reviews', 'Size', 'Installs', 'Type', 'Price', 'Content Rating', 'Genres', 'Last Updated', 'Current Ver', 'Android Ver']\n",
      "\n",
      "\n",
      "['id', 'track_name', 'size_bytes', 'currency', 'price', 'rating_count_tot', 'rating_count_ver', 'user_rating', 'user_rating_ver', 'ver', 'cont_rating', 'prime_genre', 'sup_devices.num', 'ipadSc_urls.num', 'lang.num', 'vpp_lic']\n"
     ]
    }
   ],
   "source": [
    "print(android_header)\n",
    "print(\"\\n\")\n",
    "print(apple_header)"
   ]
  },
  {
   "cell_type": "markdown",
   "metadata": {},
   "source": [
    "For Android apps, the following columns appear to be relevant for our purposes: App, Category, Rating, Reviews,Installs, Type, Price, and Genre.\n",
    "\n",
    "For Apple apps, we might be interesting in: id, track_name, price, rating_count_tot, user_rating, and prime_genre."
   ]
  },
  {
   "cell_type": "markdown",
   "metadata": {},
   "source": [
    "## Removing Wrong Data ##\n",
    "\n",
    "The [discussion](https://www.kaggle.com/lava18/google-play-store-apps/discussion) section for the Android data indicates that there is an error with one of the rows of data.\n",
    "\n",
    "Below, we look at the row in question, with the header row and another (correct) row for comparison."
   ]
  },
  {
   "cell_type": "code",
   "execution_count": 6,
   "metadata": {},
   "outputs": [
    {
     "name": "stdout",
     "output_type": "stream",
     "text": [
      "['Life Made WI-Fi Touchscreen Photo Frame', '1.9', '19', '3.0M', '1,000+', 'Free', '0', 'Everyone', '', 'February 11, 2018', '1.0.19', '4.0 and up']\n",
      "\n",
      "\n",
      "['App', 'Category', 'Rating', 'Reviews', 'Size', 'Installs', 'Type', 'Price', 'Content Rating', 'Genres', 'Last Updated', 'Current Ver', 'Android Ver']\n",
      "\n",
      "\n",
      "['Sketch - Draw & Paint', 'ART_AND_DESIGN', '4.5', '215644', '25M', '50,000,000+', 'Free', '0', 'Teen', 'Art & Design', 'June 8, 2018', 'Varies with device', '4.2 and up']\n"
     ]
    }
   ],
   "source": [
    "print(android_appdata[10472])\n",
    "print(\"\\n\")\n",
    "print(android_header)\n",
    "print(\"\\n\")\n",
    "print(android_appdata[3])"
   ]
  },
  {
   "cell_type": "markdown",
   "metadata": {},
   "source": [
    "The \"Life Made WI-Fi Touchscreen Photo Frame\" can be seen to have a rating of 19, which is clearly an error as it is outside the possible range of ratings values. Further examination reveals that the Category for this app is missing, which has shifted the remaining values to the left.\n",
    "\n",
    "In the next step, we delete the incorrect row."
   ]
  },
  {
   "cell_type": "code",
   "execution_count": 7,
   "metadata": {},
   "outputs": [
    {
     "name": "stdout",
     "output_type": "stream",
     "text": [
      "10841\n",
      "\n",
      "\n",
      "\n",
      "\n",
      "10840\n"
     ]
    }
   ],
   "source": [
    "print(len(android_appdata))\n",
    "print(\"\\n\")\n",
    "del android_appdata[10472]   # Do not run this code more than one time!\n",
    "print(\"\\n\")\n",
    "print(len(android_appdata))"
   ]
  },
  {
   "cell_type": "markdown",
   "metadata": {},
   "source": [
    "## Removing Duplicate Entries ##\n",
    "\n",
    "We will now examine the Google Play data to see if there are duplicate entries. If present, we will determine a method for eliminating the duplicates."
   ]
  },
  {
   "cell_type": "code",
   "execution_count": 8,
   "metadata": {},
   "outputs": [
    {
     "name": "stdout",
     "output_type": "stream",
     "text": [
      "Number of duplicate apps:  1181\n",
      "\n",
      "\n",
      "Examples of duplicate apps:  ['Quick PDF Scanner + OCR FREE', 'Box', 'Google My Business', 'ZOOM Cloud Meetings', 'join.me - Simple Meetings', 'Box', 'Zenefits']\n"
     ]
    }
   ],
   "source": [
    "duplicate_apps = []\n",
    "unique_apps = []\n",
    "\n",
    "for app in android_appdata:\n",
    "    name = app[0]\n",
    "    if name in unique_apps:\n",
    "        duplicate_apps.append(name)\n",
    "    else:\n",
    "        unique_apps.append(name)\n",
    "\n",
    "print(\"Number of duplicate apps: \", len(duplicate_apps))\n",
    "print(\"\\n\")\n",
    "print(\"Examples of duplicate apps: \", duplicate_apps[:7])\n",
    "    "
   ]
  },
  {
   "cell_type": "code",
   "execution_count": null,
   "metadata": {},
   "outputs": [],
   "source": []
  }
 ],
 "metadata": {
  "kernelspec": {
   "display_name": "Python 3",
   "language": "python",
   "name": "python3"
  },
  "language_info": {
   "codemirror_mode": {
    "name": "ipython",
    "version": 3
   },
   "file_extension": ".py",
   "mimetype": "text/x-python",
   "name": "python",
   "nbconvert_exporter": "python",
   "pygments_lexer": "ipython3",
   "version": "3.7.6"
  }
 },
 "nbformat": 4,
 "nbformat_minor": 4
}
